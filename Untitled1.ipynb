{
 "cells": [
  {
   "cell_type": "code",
   "execution_count": null,
   "metadata": {
    "scrolled": true
   },
   "outputs": [],
   "source": [
    "from sympy import *\n",
    "x1, x2, x3, y1, y2, y3, answer = symbols('x1 x2 x3 y1 y2 y3 answer')\n",
    "\n",
    "A = Point(0, 0)\n",
    "B = Point(x2, y2)\n",
    "C = Point(x3, y3)\n",
    "eqs = [A.distance(B) + A.distance(C) + B.distance(C) - 5,\n",
    " A.distance(B) - 2,\n",
    " B.distance(C) - 1,\n",
    " -answer + A.distance(C)]\n",
    "\n",
    "solve(eqs, [answer])\n"
   ]
  },
  {
   "cell_type": "markdown",
   "metadata": {},
   "source": []
  },
  {
   "cell_type": "code",
   "execution_count": 81,
   "metadata": {},
   "outputs": [
    {
     "data": {
      "text/plain": [
       "[(0, -sqrt((-B + C + 1)*(B - C + 1))), (0, sqrt((-B + C + 1)*(B - C + 1)))]"
      ]
     },
     "execution_count": 81,
     "metadata": {},
     "output_type": "execute_result"
    }
   ],
   "source": [
    "from sympy import *\n",
    "A, B, C, ans = symbols('A B C ans', real=True)\n",
    "a, b, c = symbols('a b c', real=True)\n",
    "C = C + I*c\n",
    "equations = [\n",
    "    Abs(A - B) + Abs(A - C) + Abs(B - C) - 5,\n",
    "    Abs(B - C) - 1,\n",
    "    Abs(A - B) - 2,\n",
    "    Abs(A - C) - ans\n",
    "]\n",
    "solve(equations, [im(A), im(B), im(C), im(ans)])"
   ]
  },
  {
   "cell_type": "code",
   "execution_count": 56,
   "metadata": {},
   "outputs": [
    {
     "data": {
      "text/plain": [
       "False"
      ]
     },
     "execution_count": 56,
     "metadata": {},
     "output_type": "execute_result"
    }
   ],
   "source": [
    "Symbol('x', real=False).is_real"
   ]
  },
  {
   "cell_type": "code",
   "execution_count": 93,
   "metadata": {},
   "outputs": [
    {
     "data": {
      "text/plain": [
       "{c: a - b}"
      ]
     },
     "execution_count": 93,
     "metadata": {},
     "output_type": "execute_result"
    }
   ],
   "source": [
    "a, b, c = symbols('a b c')\n",
    "solve([\n",
    "    (a - b) - 2,\n",
    "    (a - b) - c\n",
    "], [c])\n"
   ]
  },
  {
   "cell_type": "code",
   "execution_count": 94,
   "metadata": {},
   "outputs": [
    {
     "data": {
      "text/plain": [
       "{a - b: 2}"
      ]
     },
     "execution_count": 94,
     "metadata": {},
     "output_type": "execute_result"
    }
   ],
   "source": [
    "solve([\n",
    "    (a - b) - 2\n",
    "], [a - b])"
   ]
  },
  {
   "cell_type": "code",
   "execution_count": null,
   "metadata": {},
   "outputs": [],
   "source": []
  }
 ],
 "metadata": {
  "kernelspec": {
   "display_name": "Python 3",
   "language": "python",
   "name": "python3"
  },
  "language_info": {
   "codemirror_mode": {
    "name": "ipython",
    "version": 3
   },
   "file_extension": ".py",
   "mimetype": "text/x-python",
   "name": "python",
   "nbconvert_exporter": "python",
   "pygments_lexer": "ipython3",
   "version": "3.6.8"
  }
 },
 "nbformat": 4,
 "nbformat_minor": 2
}
