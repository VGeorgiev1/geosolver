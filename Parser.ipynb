{
 "cells": [
  {
   "cell_type": "code",
   "execution_count": 9,
   "metadata": {},
   "outputs": [],
   "source": [
    "solver_grammar = \"\"\"\n",
    "    start: _NL? problem\n",
    "    problem: ([expr | decl] _NL)+\n",
    "    decl: symbol \"=\" expr\n",
    "    expr: binoperation\n",
    "        | method\n",
    "        | symbol\n",
    "        | literal\n",
    "    method: symbol \"(\" parameter \")\"\n",
    "    parameter: expr (\",\" expr)*\n",
    "    binoperation: expr OPERATOR expr\n",
    "    symbol: SYMBOL\n",
    "    literal: LITERAL\n",
    "    \n",
    "    SYMBOL: /[a-zA-Z][a-zA-Z0-9]*/\n",
    "    LITERAL: /\\d*\\.?\\d+/\n",
    "    OPERATOR: /[\\/*\\-+]/\n",
    "    \n",
    "    %import common.INT -> NUMBER\n",
    "    %import common.NEWLINE -> _NL\n",
    "    %import common.WS_INLINE\n",
    "    \n",
    "    %ignore WS_INLINE\n",
    "\"\"\""
   ]
  },
  {
   "cell_type": "code",
   "execution_count": 10,
   "metadata": {},
   "outputs": [
    {
     "name": "stdout",
     "output_type": "stream",
     "text": [
      "start\n",
      "  problem\n",
      "    decl\n",
      "      symbol\tt\n",
      "      expr\n",
      "        method\n",
      "          symbol\ttriangle\n",
      "          parameter\n",
      "            expr\n",
      "              symbol\ta\n",
      "            expr\n",
      "              symbol\tb\n",
      "            expr\n",
      "              symbol\tc\n",
      "    expr\n",
      "      method\n",
      "        symbol\tperimeter\n",
      "        parameter\n",
      "          expr\n",
      "            symbol\tt\n",
      "          expr\n",
      "            literal\t5\n",
      "    expr\n",
      "      method\n",
      "        symbol\teq\n",
      "        parameter\n",
      "          expr\n",
      "            method\n",
      "              symbol\tdist\n",
      "              parameter\n",
      "                expr\n",
      "                  symbol\ta\n",
      "                expr\n",
      "                  symbol\tb\n",
      "          expr\n",
      "            literal\t2\n",
      "    expr\n",
      "      method\n",
      "        symbol\teq\n",
      "        parameter\n",
      "          expr\n",
      "            method\n",
      "              symbol\tdist\n",
      "              parameter\n",
      "                expr\n",
      "                  symbol\tb\n",
      "                expr\n",
      "                  symbol\tc\n",
      "          expr\n",
      "            literal\t1\n",
      "    expr\n",
      "      method\n",
      "        symbol\tsolve\n",
      "        parameter\n",
      "          expr\n",
      "            method\n",
      "              symbol\tdist\n",
      "              parameter\n",
      "                expr\n",
      "                  symbol\ta\n",
      "                expr\n",
      "                  symbol\tc\n",
      "\n",
      "Tree(start, [Tree(problem, [Tree(decl, [Tree(symbol, [Token(SYMBOL, 't')]), Tree(expr, [Tree(method, [Tree(symbol, [Token(SYMBOL, 'triangle')]), Tree(parameter, [Tree(expr, [Tree(symbol, [Token(SYMBOL, 'a')])]), Tree(expr, [Tree(symbol, [Token(SYMBOL, 'b')])]), Tree(expr, [Tree(symbol, [Token(SYMBOL, 'c')])])])])])]), Tree(expr, [Tree(method, [Tree(symbol, [Token(SYMBOL, 'perimeter')]), Tree(parameter, [Tree(expr, [Tree(symbol, [Token(SYMBOL, 't')])]), Tree(expr, [Tree(literal, [Token(LITERAL, '5')])])])])]), Tree(expr, [Tree(method, [Tree(symbol, [Token(SYMBOL, 'eq')]), Tree(parameter, [Tree(expr, [Tree(method, [Tree(symbol, [Token(SYMBOL, 'dist')]), Tree(parameter, [Tree(expr, [Tree(symbol, [Token(SYMBOL, 'a')])]), Tree(expr, [Tree(symbol, [Token(SYMBOL, 'b')])])])])]), Tree(expr, [Tree(literal, [Token(LITERAL, '2')])])])])]), Tree(expr, [Tree(method, [Tree(symbol, [Token(SYMBOL, 'eq')]), Tree(parameter, [Tree(expr, [Tree(method, [Tree(symbol, [Token(SYMBOL, 'dist')]), Tree(parameter, [Tree(expr, [Tree(symbol, [Token(SYMBOL, 'b')])]), Tree(expr, [Tree(symbol, [Token(SYMBOL, 'c')])])])])]), Tree(expr, [Tree(literal, [Token(LITERAL, '1')])])])])]), Tree(expr, [Tree(method, [Tree(symbol, [Token(SYMBOL, 'solve')]), Tree(parameter, [Tree(expr, [Tree(method, [Tree(symbol, [Token(SYMBOL, 'dist')]), Tree(parameter, [Tree(expr, [Tree(symbol, [Token(SYMBOL, 'a')])]), Tree(expr, [Tree(symbol, [Token(SYMBOL, 'c')])])])])])])])])])])\n"
     ]
    },
    {
     "data": {
      "text/plain": [
       "'t'"
      ]
     },
     "execution_count": 10,
     "metadata": {},
     "output_type": "execute_result"
    }
   ],
   "source": [
    "from lark import Lark\n",
    "parser = Lark(solver_grammar)\n",
    "sample = \"\"\"\n",
    "t = triangle(a, b, c)\n",
    "perimeter(t, 5)\n",
    "eq(dist(a, b), 2)\n",
    "eq(dist(b, c), 1)\n",
    "solve(dist(a, c))\n",
    "\"\"\"\n",
    "print(parser.parse(sample).pretty())\n",
    "print(parser.parse(sample))\n",
    "str(parser.parse(sample).children[0].children[0].children[0].children[0])"
   ]
  },
  {
   "cell_type": "code",
   "execution_count": 11,
   "metadata": {},
   "outputs": [
    {
     "data": {
      "text/plain": [
       "[[['t', <problem.Triangle at 0x2b0d7c79c18>], None, None, None, 2.0]]"
      ]
     },
     "execution_count": 11,
     "metadata": {},
     "output_type": "execute_result"
    }
   ],
   "source": [
    "from problem import *\n",
    "from lark import Tree, Token\n",
    "\n",
    "p = Problem() \n",
    "\n",
    "methods = {\n",
    "    'triangle': p.triangle,\n",
    "    'perimeter': p.perimeter,\n",
    "    'eq': p.eq,\n",
    "    'dist': p.dist,\n",
    "    'solve': p.solve\n",
    "}\n",
    "\n",
    "def process_expression(root, problem):\n",
    "    if root.data == 'literal' or root.data == 'symbol':\n",
    "        return(str(root.children[0]))\n",
    "    elif root.data == 'binoperation':\n",
    "        return(visit_branch(root, problem))\n",
    "    elif root.data == 'method':\n",
    "        method = visit_branch(root, problem)\n",
    "        #\n",
    "        return(methods.get(method[0], lambda: 'Invalid')(*method[1]))\n",
    "\n",
    "    #return visit_branch(root)\n",
    "\n",
    "def visit_branch(root, problem):\n",
    "    if isinstance(root, Tree):\n",
    "        params = [visit_branch(child, problem) for child in root.children]\n",
    "       # print(params)\n",
    "        if root.data == 'expr':\n",
    "            return process_expression(root.children[0], problem)\n",
    "        elif root.data == 'decl':\n",
    "            problem.bind(*params)\n",
    "        elif root.data == 'literal' or root.data == 'symbol':\n",
    "            return params[0]\n",
    "        return params\n",
    "    if isinstance(root, Token):\n",
    "        return str(root)\n",
    "               \n",
    "visit_branch(parser.parse(sample), p)"
   ]
  },
  {
   "cell_type": "code",
   "execution_count": null,
   "metadata": {},
   "outputs": [],
   "source": []
  }
 ],
 "metadata": {
  "kernelspec": {
   "display_name": "Python 3",
   "language": "python",
   "name": "python3"
  },
  "language_info": {
   "codemirror_mode": {
    "name": "ipython",
    "version": 3
   },
   "file_extension": ".py",
   "mimetype": "text/x-python",
   "name": "python",
   "nbconvert_exporter": "python",
   "pygments_lexer": "ipython3",
   "version": "3.7.1"
  }
 },
 "nbformat": 4,
 "nbformat_minor": 2
}
