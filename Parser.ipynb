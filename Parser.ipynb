{
 "cells": [
  {
   "cell_type": "code",
   "execution_count": 1,
   "metadata": {},
   "outputs": [],
   "source": [
    "solver_grammar = \"\"\"\n",
    "    start: _NL? problem\n",
    "    problem: ([expr | decl] _NL)+\n",
    "    decl: symbol \":=\" expr\n",
    "    expr: binoperation\n",
    "        | method\n",
    "        | symbol\n",
    "        | literal\n",
    "    method: symbol \"(\" parameter \")\"\n",
    "    parameter: expr (\",\" expr)*\n",
    "    binoperation: expr OPERATOR expr\n",
    "    symbol: SYMBOL\n",
    "    literal: LITERAL\n",
    "    \n",
    "    SYMBOL: /[a-zA-Z][a-zA-Z0-9]*/\n",
    "    LITERAL: /\\d*\\.?\\d+/\n",
    "    OPERATOR: /([\\/*\\-+]|==)/\n",
    "    \n",
    "    %import common.INT -> NUMBER\n",
    "    %import common.NEWLINE -> _NL\n",
    "    %import common.WS_INLINE\n",
    "    \n",
    "    %ignore WS_INLINE\n",
    "\"\"\""
   ]
  },
  {
   "cell_type": "code",
   "execution_count": 13,
   "metadata": {},
   "outputs": [
    {
     "name": "stdout",
     "output_type": "stream",
     "text": [
      "start\n",
      "  problem\n",
      "    decl\n",
      "      symbol\tt\n",
      "      expr\n",
      "        method\n",
      "          symbol\ttriangle\n",
      "          parameter\n",
      "            expr\n",
      "              symbol\ta\n",
      "            expr\n",
      "              symbol\tb\n",
      "            expr\n",
      "              symbol\tc\n",
      "    expr\n",
      "      method\n",
      "        symbol\tperimeter\n",
      "        parameter\n",
      "          expr\n",
      "            symbol\tt\n",
      "          expr\n",
      "            literal\t2\n",
      "    expr\n",
      "      method\n",
      "        symbol\tsolve\n",
      "        parameter\n",
      "          expr\n",
      "            binoperation\n",
      "              expr\n",
      "                literal\t2\n",
      "              *\n",
      "              expr\n",
      "                method\n",
      "                  symbol\tperimeter\n",
      "                  parameter\n",
      "                    expr\n",
      "                      symbol\tt\n",
      "\n",
      "Tree(start, [Tree(problem, [Tree(decl, [Tree(symbol, [Token(SYMBOL, 't')]), Tree(expr, [Tree(method, [Tree(symbol, [Token(SYMBOL, 'triangle')]), Tree(parameter, [Tree(expr, [Tree(symbol, [Token(SYMBOL, 'a')])]), Tree(expr, [Tree(symbol, [Token(SYMBOL, 'b')])]), Tree(expr, [Tree(symbol, [Token(SYMBOL, 'c')])])])])])]), Tree(expr, [Tree(method, [Tree(symbol, [Token(SYMBOL, 'perimeter')]), Tree(parameter, [Tree(expr, [Tree(symbol, [Token(SYMBOL, 't')])]), Tree(expr, [Tree(literal, [Token(LITERAL, '2')])])])])]), Tree(expr, [Tree(method, [Tree(symbol, [Token(SYMBOL, 'solve')]), Tree(parameter, [Tree(expr, [Tree(binoperation, [Tree(expr, [Tree(literal, [Token(LITERAL, '2')])]), Token(OPERATOR, '*'), Tree(expr, [Tree(method, [Tree(symbol, [Token(SYMBOL, 'perimeter')]), Tree(parameter, [Tree(expr, [Tree(symbol, [Token(SYMBOL, 't')])])])])])])])])])])])])\n"
     ]
    },
    {
     "data": {
      "text/plain": [
       "'t'"
      ]
     },
     "execution_count": 13,
     "metadata": {},
     "output_type": "execute_result"
    }
   ],
   "source": [
    "from lark import Lark\n",
    "parser = Lark(solver_grammar)\n",
    "sample1 = \"\"\"\n",
    "t := triangle(a, b, c)\n",
    "perimeter(t, 2)\n",
    "solve(2 * perimeter(t))\n",
    "\"\"\"\n",
    "sample = \"\"\"\n",
    "t := triangle(a, b, c)\n",
    "d := triangle(z, x, y)\n",
    "perimeter(d, 3)\n",
    "perimeter(t, 2 * perimeter(d))\n",
    "dist(a, b) == 2\n",
    "eq(dist(a, c), 2)\n",
    "solve(dist(b, c))\n",
    "\"\"\"\n",
    "sample2 = \"\"\"\n",
    "t := triangle(a, b, c)\n",
    "perimeter(t, 2 * 2)\n",
    "eq(dist(a, b), 1)\n",
    "eq(dist(a, c), 2)\n",
    "solve(dist(b, c))\n",
    "\"\"\"\n",
    "sample3 = \"\"\"\n",
    "t := triangle(a,b,c)\n",
    "perimeter(t, 5)\n",
    "dist(a,c) == dist(b,c)\n",
    "eq(dist(a,b),1)\n",
    "solve(dist(a,c))\n",
    "\"\"\"\n",
    "\n",
    "\n",
    "print(parser.parse(sample1).pretty())\n",
    "print(parser.parse(sample1))\n",
    "str(parser.parse(sample1).children[0].children[0].children[0].children[0])"
   ]
  },
  {
   "cell_type": "code",
   "execution_count": 14,
   "metadata": {},
   "outputs": [
    {
     "name": "stdout",
     "output_type": "stream",
     "text": [
      "\n"
     ]
    },
    {
     "data": {
      "text/plain": [
       "[[['t', <problem.Triangle at 0x1ba1db1f0b8>], None, None]]"
      ]
     },
     "execution_count": 14,
     "metadata": {},
     "output_type": "execute_result"
    }
   ],
   "source": [
    "from problem import *\n",
    "from lark import Tree, Token\n",
    "\n",
    "p = Problem() \n",
    "\n",
    "methods = {\n",
    "    'triangle': p.triangle,\n",
    "    'perimeter': p.perimeter,\n",
    "    'eq': p.eq,\n",
    "    'dist': p.dist,\n",
    "    'solve': p.solve,\n",
    "    '+': p.add,\n",
    "    '-': p.sub,\n",
    "    '*': p.mul,\n",
    "    '/': p.div,\n",
    "    '==': p.eq\n",
    "}\n",
    "\n",
    "def process_expression(root, problem):\n",
    "    if root.data == 'literal':\n",
    "        return(float(root.children[0]))\n",
    "    elif root.data == 'symbol':\n",
    "        return(str(root.children[0]))\n",
    "    elif root.data == 'binoperation':\n",
    "        res = visit_branch(root, problem) \n",
    "        return (methods.get(res[1], lambda: 'Invalid')(res[0], res[2]))\n",
    "    elif root.data == 'method':\n",
    "        method = visit_branch(root, problem)\n",
    "        return(methods.get(method[0], lambda: 'Invalid')(*method[1]))\n",
    "\n",
    "    #return visit_branch(root)\n",
    "\n",
    "def visit_branch(root, problem):\n",
    "    if isinstance(root, Tree):\n",
    "        params = [visit_branch(child, problem) for child in root.children]\n",
    "       # print(params)\n",
    "        if root.data == 'expr':\n",
    "            return process_expression(root.children[0], problem)\n",
    "        elif root.data == 'decl':\n",
    "            problem.bind(*params)\n",
    "        elif root.data == 'literal' or root.data == 'symbol':\n",
    "            return params[0]\n",
    "        return params\n",
    "    if isinstance(root, Token):\n",
    "        return str(root)\n",
    "               \n",
    "visit_branch(parser.parse(sample1), p)"
   ]
  },
  {
   "cell_type": "code",
   "execution_count": null,
   "metadata": {},
   "outputs": [],
   "source": []
  }
 ],
 "metadata": {
  "kernelspec": {
   "display_name": "Python 3",
   "language": "python",
   "name": "python3"
  },
  "language_info": {
   "codemirror_mode": {
    "name": "ipython",
    "version": 3
   },
   "file_extension": ".py",
   "mimetype": "text/x-python",
   "name": "python",
   "nbconvert_exporter": "python",
   "pygments_lexer": "ipython3",
   "version": "3.7.1"
  }
 },
 "nbformat": 4,
 "nbformat_minor": 2
}
