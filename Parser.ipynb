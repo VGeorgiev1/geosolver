{
 "cells": [
  {
   "cell_type": "code",
   "execution_count": 4,
   "metadata": {},
   "outputs": [
    {
     "name": "stdout",
     "output_type": "stream",
     "text": [
      "Token(type='SYMBOL', value='t', lineno=2, index=1)\n",
      "Token(type='ASSIGN', value='=', lineno=2, index=3)\n",
      "Token(type='TRIANGLE', value='triangle', lineno=2, index=5)\n",
      "Token(type='SYMBOL', value='A', lineno=2, index=14)\n",
      "Token(type='SYMBOL', value='B', lineno=2, index=16)\n",
      "Token(type='SYMBOL', value='C', lineno=2, index=18)\n"
     ]
    }
   ],
   "source": [
    "data = '''\n",
    "t = triangle A B C\n",
    "'''\n",
    "\n",
    "lexer = SolverLexer()\n",
    "for tok in lexer.tokenize(data):\n",
    "    print(tok)"
   ]
  },
  {
   "cell_type": "code",
   "execution_count": 1,
   "metadata": {},
   "outputs": [
    {
     "name": "stdout",
     "output_type": "stream",
     "text": [
      "Tree(start, [Token(WORD, 'Hello'), Token(WORD, 'World')])\n"
     ]
    }
   ],
   "source": [
    "from lark import Lark\n",
    "\n",
    "l = Lark('''start: WORD \",\" WORD \"!\"\n",
    "\n",
    "            %import common.WORD   // imports from terminal library\n",
    "            %ignore \" \"           // Disregard spaces in text\n",
    "         ''')\n",
    "\n",
    "print( l.parse(\"Hello, World!\") )"
   ]
  },
  {
   "cell_type": "code",
   "execution_count": 71,
   "metadata": {},
   "outputs": [],
   "source": [
    "solver_grammar = \"\"\"\n",
    "    start: _NL? program\n",
    "    program: ([expr | decl] _NL)+\n",
    "    decl: symbol \"=\" expr\n",
    "    expr: binoperation\n",
    "        | method\n",
    "        | symbol\n",
    "        | literal\n",
    "    method: symbol \"(\" parameter \")\"\n",
    "    parameter: expr (\",\" expr)*\n",
    "    binoperation: expr OPERATOR expr\n",
    "    symbol: SYMBOL\n",
    "    literal: LITERAL+\n",
    "    \n",
    "    SYMBOL: /[a-zA-Z][a-zA-Z0-9]*/\n",
    "    LITERAL: /[\\d.]/\n",
    "    OPERATOR: /[\\/*\\-+]/\n",
    "    \n",
    "    %import common.INT -> NUMBER\n",
    "    %import common.NEWLINE -> _NL\n",
    "    %import common.WS_INLINE\n",
    "    \n",
    "    %ignore WS_INLINE\n",
    "\"\"\""
   ]
  },
  {
   "cell_type": "code",
   "execution_count": 73,
   "metadata": {},
   "outputs": [
    {
     "name": "stdout",
     "output_type": "stream",
     "text": [
      "start\n",
      "  program\n",
      "    decl\n",
      "      symbol\ta\n",
      "      expr\n",
      "        literal\t3\n",
      "    expr\n",
      "      method\n",
      "        symbol\tline\n",
      "        parameter\n",
      "          expr\n",
      "            symbol\ta\n",
      "          expr\n",
      "            symbol\tb\n",
      "    decl\n",
      "      symbol\tc\n",
      "      expr\n",
      "        binoperation\n",
      "          expr\n",
      "            method\n",
      "              symbol\ttriangle\n",
      "              parameter\n",
      "                expr\n",
      "                  symbol\ta\n",
      "                expr\n",
      "                  symbol\tb\n",
      "                expr\n",
      "                  symbol\td\n",
      "          +\n",
      "          expr\n",
      "            method\n",
      "              symbol\tline\n",
      "              parameter\n",
      "                expr\n",
      "                  binoperation\n",
      "                    expr\n",
      "                      symbol\ta\n",
      "                    +\n",
      "                    expr\n",
      "                      symbol\tb\n",
      "                expr\n",
      "                  symbol\tc\n",
      "    expr\n",
      "      method\n",
      "        symbol\tline\n",
      "        parameter\n",
      "          expr\n",
      "            symbol\ta\n",
      "          expr\n",
      "            method\n",
      "              symbol\tline\n",
      "              parameter\n",
      "                expr\n",
      "                  symbol\tv\n",
      "                expr\n",
      "                  symbol\tc\n",
      "\n",
      "Tree(start, [Tree(program, [Tree(decl, [Tree(symbol, [Token(SYMBOL, 'a')]), Tree(expr, [Tree(literal, [Token(LITERAL, '3')])])]), Tree(expr, [Tree(method, [Tree(symbol, [Token(SYMBOL, 'line')]), Tree(parameter, [Tree(expr, [Tree(symbol, [Token(SYMBOL, 'a')])]), Tree(expr, [Tree(symbol, [Token(SYMBOL, 'b')])])])])]), Tree(decl, [Tree(symbol, [Token(SYMBOL, 'c')]), Tree(expr, [Tree(binoperation, [Tree(expr, [Tree(method, [Tree(symbol, [Token(SYMBOL, 'triangle')]), Tree(parameter, [Tree(expr, [Tree(symbol, [Token(SYMBOL, 'a')])]), Tree(expr, [Tree(symbol, [Token(SYMBOL, 'b')])]), Tree(expr, [Tree(symbol, [Token(SYMBOL, 'd')])])])])]), Token(OPERATOR, '+'), Tree(expr, [Tree(method, [Tree(symbol, [Token(SYMBOL, 'line')]), Tree(parameter, [Tree(expr, [Tree(binoperation, [Tree(expr, [Tree(symbol, [Token(SYMBOL, 'a')])]), Token(OPERATOR, '+'), Tree(expr, [Tree(symbol, [Token(SYMBOL, 'b')])])])]), Tree(expr, [Tree(symbol, [Token(SYMBOL, 'c')])])])])])])])]), Tree(expr, [Tree(method, [Tree(symbol, [Token(SYMBOL, 'line')]), Tree(parameter, [Tree(expr, [Tree(symbol, [Token(SYMBOL, 'a')])]), Tree(expr, [Tree(method, [Tree(symbol, [Token(SYMBOL, 'line')]), Tree(parameter, [Tree(expr, [Tree(symbol, [Token(SYMBOL, 'v')])]), Tree(expr, [Tree(symbol, [Token(SYMBOL, 'c')])])])])])])])])])])\n"
     ]
    }
   ],
   "source": [
    "parser = Lark(solver_grammar)\n",
    "sample = \"\"\"\n",
    "a = 3\n",
    "line(a, b)\n",
    "c = triangle(a, b, d) + line(a + b, c)\n",
    "line(a, line(v, c))\n",
    "\"\"\"\n",
    "\n",
    "print(parser.parse(sample).pretty())\n",
    "print(parser.parse(sample))"
   ]
  },
  {
   "cell_type": "code",
   "execution_count": null,
   "metadata": {},
   "outputs": [],
   "source": []
  },
  {
   "cell_type": "code",
   "execution_count": null,
   "metadata": {},
   "outputs": [],
   "source": []
  }
 ],
 "metadata": {
  "kernelspec": {
   "display_name": "Python 3",
   "language": "python",
   "name": "python3"
  },
  "language_info": {
   "codemirror_mode": {
    "name": "ipython",
    "version": 3
   },
   "file_extension": ".py",
   "mimetype": "text/x-python",
   "name": "python",
   "nbconvert_exporter": "python",
   "pygments_lexer": "ipython3",
   "version": "3.7.1"
  }
 },
 "nbformat": 4,
 "nbformat_minor": 2
}
