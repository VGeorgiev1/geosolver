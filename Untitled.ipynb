{
 "cells": [
  {
   "cell_type": "code",
   "execution_count": 1,
   "metadata": {},
   "outputs": [],
   "source": [
    "from solve import solveReal, solveBetter"
   ]
  },
  {
   "cell_type": "code",
   "execution_count": 2,
   "metadata": {},
   "outputs": [],
   "source": [
    "def operator(func):\n",
    "    def func_wrapper(self, rhs):\n",
    "        if not isinstance(rhs, Expression):\n",
    "            rhs = Expression(rhs)\n",
    "        return func(self, rhs)\n",
    "    return func_wrapper\n",
    "\n",
    "class Expression:\n",
    "    def __init__(self, value):\n",
    "        if isinstance(value, Expression):\n",
    "            self.value = f'({value.value})'\n",
    "        else:\n",
    "            self.value = f'({value})'\n",
    "    def __repr__(self):\n",
    "        return self.value\n",
    "    @operator\n",
    "    def __radd__(self, lhs):\n",
    "        return Expression(f'{lhs.value} + {self.value}')\n",
    "    @operator\n",
    "    def __add__(self, rhs):\n",
    "        return Expression(f'{self.value} + {rhs.value}')\n",
    "    @operator\n",
    "    def __sub__(self, rhs):\n",
    "        return Expression(f'{self.value} - {rhs.value}')\n",
    "    @operator\n",
    "    def __rsub__(self, lhs):\n",
    "        return Expression(f'{lhs.value} - {self.value}')\n",
    "    @operator\n",
    "    def __mul__(self, rhs):\n",
    "        return Expression(f'{self.value} * {rhs.value}')\n",
    "    @operator\n",
    "    def __truediv__(self, rhs):\n",
    "        return Expression(f'{self.value} / {rhs.value}')\n",
    "    @operator\n",
    "    def __rtruediv__(self, lhs):\n",
    "        return Expression(f'{lhs.value} / {self.value}')\n",
    "    @operator\n",
    "    def __eq__(self, rhs):\n",
    "        return Expression(f'{self.value} == {rhs.value}')\n",
    "    @operator\n",
    "    def __eq__(self, lhs):\n",
    "        return Expression(f'{lhs.value} == {self.value}')\n",
    "def distance(a, b):\n",
    "    return Expression(f'Abs[{(a-b).value}]')\n",
    "def angle(a,b,c):\n",
    "    return Expression(f'Angle[{a.value}, {b.value}, {c.value}]')\n",
    "class Triangle:\n",
    "    def __init__(self, A, B, C):\n",
    "        self.A = A\n",
    "        self.B = B\n",
    "        self.C = C\n",
    "    def perimeter(self):\n",
    "        return distance(self.A, self.B) + distance(self.B, self.C) + distance(self.A, self.C)"
   ]
  },
  {
   "cell_type": "code",
   "execution_count": 3,
   "metadata": {},
   "outputs": [],
   "source": [
    "class Circle:\n",
    "    def __init__(self, O,r):\n",
    "        self.O = O\n",
    "        self.r = r\n",
    "    def perimeter(self):\n",
    "        return 2 * math.pi * r"
   ]
  },
  {
   "cell_type": "code",
   "execution_count": 4,
   "metadata": {},
   "outputs": [],
   "source": [
    "def parse_symbols(func):\n",
    "    def func_wrapper(self, *args):\n",
    "        arguments = []\n",
    "        for a in args:\n",
    "            if isinstance(a, str):\n",
    "                if a in self.symbols:\n",
    "                    arguments.append(self.symbols[a])\n",
    "                else:\n",
    "                    s = Expression(a)\n",
    "                    self.symbols[a] = s\n",
    "                    arguments.append(s)\n",
    "            elif isinstance(a, (int, float)):\n",
    "                arguments.append(Expression(a))\n",
    "            else:\n",
    "                arguments.append(a)\n",
    "#         print(arguments)\n",
    "        return func(self, *arguments)\n",
    "    return func_wrapper"
   ]
  },
  {
   "cell_type": "code",
   "execution_count": 5,
   "metadata": {},
   "outputs": [],
   "source": [
    "class Problem:\n",
    "    def __init__(self):\n",
    "        self.symbols = {}\n",
    "        self.equations = []\n",
    "        self.dummy_counter = 0\n",
    "    def dummy(self):\n",
    "        self.dummy_counter+=1\n",
    "        name = f'geosolver{self.dummy_counter}'\n",
    "        self.symbols[name] = Expression(name)\n",
    "        return self.symbols[name]\n",
    "    @parse_symbols\n",
    "    def triangle(self, a, b, c):\n",
    "        return Triangle(a, b, c)\n",
    "    \n",
    "    @parse_symbols\n",
    "    def circumcircle(self, a, b, c):\n",
    "        O = self.dummy()\n",
    "        self.equations.append(distance(O, a) == distance(O,b))\n",
    "        self.equations.append(distance(O, a) == distance(O,c))\n",
    "        return Circle(O,distance(O,a))\n",
    "    @parse_symbols\n",
    "    def angle(self,a,b,c):\n",
    "        return angle(a,b,c)\n",
    "    @parse_symbols\n",
    "    def perimeter(self, shape, value):\n",
    "        self.equations.append(shape.perimeter() == value)\n",
    "    @parse_symbols\n",
    "    def eq(self, a, b):\n",
    "        self.equations.append(a == b)\n",
    "    @parse_symbols\n",
    "    def radius(self, circle):\n",
    "        return circle.r\n",
    "    @parse_symbols\n",
    "    def dist(self, a, b):\n",
    "        return distance(a, b)\n",
    "    def bind(self, a, b):\n",
    "        self.symbols[a] = b\n",
    "        if isinstance(b, Expression):\n",
    "            self.equations.append(Expression(a) == b)\n",
    "        elif isinstance(b, (str, int, float)):\n",
    "            self.equations.append(Expression(a) == Expression(b))\n",
    "    def variables(self):\n",
    "        return list(self.symbols.keys()) + ['answer']\n",
    "    def solve(self, expression):\n",
    "        answer = Expression('answer')\n",
    "        self.equations.append(answer == expression)\n",
    "        return solveBetter(map(lambda e: e.value, self.equations), self.variables())"
   ]
  },
  {
   "cell_type": "code",
   "execution_count": 9,
   "metadata": {},
   "outputs": [
    {
     "data": {
      "text/plain": [
       "90.0"
      ]
     },
     "execution_count": 9,
     "metadata": {},
     "output_type": "execute_result"
    }
   ],
   "source": [
    "p = Problem()\n",
    "p.bind('t', p.triangle('A', 'B', 'C'))\n",
    "p.eq(p.dist('A', 'B'), 3)\n",
    "p.eq(p.dist('B', 'C'), 4)\n",
    "p.eq(p.dist('A', 'C'), 5)\n",
    "p.solve(p.angle('A','B','C'))"
   ]
  },
  {
   "cell_type": "code",
   "execution_count": 7,
   "metadata": {},
   "outputs": [
    {
     "data": {
      "text/plain": [
       "2.0"
      ]
     },
     "execution_count": 7,
     "metadata": {},
     "output_type": "execute_result"
    }
   ],
   "source": [
    "p = Problem()\n",
    "p.bind('t', p.triangle('A', 'B', 'C'))\n",
    "p.perimeter('t', 5)\n",
    "p.eq(p.dist('A', 'B'), 1)\n",
    "p.eq(p.dist('A', 'C'), 2)\n",
    "p.solve(p.dist('B', 'C'))"
   ]
  },
  {
   "cell_type": "code",
   "execution_count": 8,
   "metadata": {},
   "outputs": [
    {
     "data": {
      "text/plain": [
       "2.5"
      ]
     },
     "execution_count": 8,
     "metadata": {},
     "output_type": "execute_result"
    }
   ],
   "source": [
    "p = Problem()\n",
    "p.bind('t', p.circumcircle('A', 'B', 'C'))\n",
    "p.eq(p.dist('A', 'B'), 3)\n",
    "p.eq(p.dist('A', 'C'), 4)\n",
    "p.eq(p.dist('B', 'C'), 5)\n",
    "p.solve(p.radius('t'))"
   ]
  },
  {
   "cell_type": "code",
   "execution_count": null,
   "metadata": {},
   "outputs": [],
   "source": []
  },
  {
   "cell_type": "code",
   "execution_count": null,
   "metadata": {
    "collapsed": true
   },
   "outputs": [],
   "source": []
  }
 ],
 "metadata": {
  "kernelspec": {
   "display_name": "Python 3",
   "language": "python",
   "name": "python3"
  },
  "language_info": {
   "codemirror_mode": {
    "name": "ipython",
    "version": 3
   },
   "file_extension": ".py",
   "mimetype": "text/x-python",
   "name": "python",
   "nbconvert_exporter": "python",
   "pygments_lexer": "ipython3",
   "version": "3.6.8"
  }
 },
 "nbformat": 4,
 "nbformat_minor": 2
}
