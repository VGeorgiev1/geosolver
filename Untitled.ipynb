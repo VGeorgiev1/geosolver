{
 "cells": [
  {
   "cell_type": "code",
   "execution_count": 152,
   "metadata": {},
   "outputs": [],
   "source": [
    "from solve import solveReal, expression"
   ]
  },
  {
   "cell_type": "code",
   "execution_count": 249,
   "metadata": {},
   "outputs": [],
   "source": [
    "def operator(func):\n",
    "    def func_wrapper(self, rhs):\n",
    "        if not isinstance(rhs, Expression):\n",
    "            rhs = Expression(rhs)\n",
    "        return func(self, rhs)\n",
    "    return func_wrapper\n",
    "\n",
    "class Expression:\n",
    "    def __init__(self, value):\n",
    "        if isinstance(value, Expression):\n",
    "            self.value = f'({value.value})'\n",
    "        else:\n",
    "            self.value = f'({value})'\n",
    "    def __str__():\n",
    "        return this.value\n",
    "    @operator\n",
    "    def __add__(self, rhs):\n",
    "        return Expression(f'{self.value} + {rhs.value}')\n",
    "    @operator\n",
    "    def __sub__(self, rhs):\n",
    "        return Expression(f'{self.value} - {rhs.value}')\n",
    "    @operator\n",
    "    def __mul__(self, rhs):\n",
    "        return Expression(f'{self.value} * {rhs.value}')\n",
    "    @operator\n",
    "    def __truediv__(self, rhs):\n",
    "        return Expression(f'{self.value} / {rhs.value}')\n",
    "    @operator\n",
    "    def __eq__(self, rhs):\n",
    "        return Expression(f'{self.value} == {rhs.value}')\n",
    "def distance(a, b):\n",
    "    return Expression(f'Abs[{(a-b).value}]')\n",
    "class Triangle:\n",
    "    def __init__(self, A, B, C):\n",
    "        self.A = A\n",
    "        self.B = B\n",
    "        self.C = C\n",
    "    def perimeter(self):\n",
    "        return distance(self.A, self.B) + distance(self.B, self.C) + distance(self.A, self.C)"
   ]
  },
  {
   "cell_type": "code",
   "execution_count": 250,
   "metadata": {},
   "outputs": [],
   "source": [
    "def parse_symbols(func):\n",
    "    def func_wrapper(self, *args):\n",
    "        arguments = []\n",
    "        for a in args:\n",
    "            if isinstance(a, str):\n",
    "                if a in self.symbols:\n",
    "                    arguments.append(self.symbols[a])\n",
    "                else:\n",
    "                    s = Expression(a)\n",
    "                    self.symbols[a] = s\n",
    "                    arguments.append(s)\n",
    "            elif isinstance(a, (int, float)):\n",
    "                arguments.append(Expression(a))\n",
    "            else:\n",
    "                arguments.append(a)\n",
    "        return func(self, *arguments)\n",
    "    return func_wrapper"
   ]
  },
  {
   "cell_type": "code",
   "execution_count": 251,
   "metadata": {},
   "outputs": [],
   "source": [
    "class Problem:\n",
    "    def __init__(self):\n",
    "        self.symbols = {}\n",
    "        self.equations = []\n",
    "    @parse_symbols\n",
    "    def triangle(self, a, b, c):\n",
    "        return Triangle(a, b, c)\n",
    "    @parse_symbols\n",
    "    def perimeter(self, shape, value):\n",
    "        self.equations.append(shape.perimeter() == value)\n",
    "    @parse_symbols\n",
    "    def eq(self, a, b):\n",
    "        self.equations.append(a == b)\n",
    "    @parse_symbols\n",
    "    def dist(self, a, b):\n",
    "        return distance(a, b)\n",
    "    def bind(self, a, b):\n",
    "        self.symbols[a] = b\n",
    "        if isinstance(b, Expression):\n",
    "            self.equations.append(Expression(a) == b)\n",
    "        elif isinstance(b, (str, int, float)):\n",
    "            self.equations.append(Expression(a) == Expression(b))\n",
    "    def solve(self, expression):\n",
    "        answer = Expression('answer')\n",
    "        self.equations.append(answer == expression)\n",
    "        return solveReal(map(lambda e: e.value, self.equations))"
   ]
  },
  {
   "cell_type": "code",
   "execution_count": 252,
   "metadata": {},
   "outputs": [
    {
     "data": {
      "text/plain": [
       "2.0"
      ]
     },
     "execution_count": 252,
     "metadata": {},
     "output_type": "execute_result"
    }
   ],
   "source": [
    "p = Problem()\n",
    "p.bind('t', p.triangle('A', 'B', 'C'))\n",
    "p.perimeter('t', 5)\n",
    "p.eq(p.dist('A', 'B'), 2)\n",
    "p.eq(p.dist('B', 'C'), 1)\n",
    "p.solve(p.dist('A', 'C'))"
   ]
  },
  {
   "cell_type": "code",
   "execution_count": 255,
   "metadata": {},
   "outputs": [
    {
     "data": {
      "text/plain": [
       "5.0"
      ]
     },
     "execution_count": 255,
     "metadata": {},
     "output_type": "execute_result"
    }
   ],
   "source": [
    "p = Problem()\n",
    "p.bind('t', 5)\n",
    "p.solve('t')"
   ]
  },
  {
   "cell_type": "code",
   "execution_count": 254,
   "metadata": {},
   "outputs": [
    {
     "data": {
      "text/plain": [
       "<__main__.Expression at 0x7f7cb5773a90>"
      ]
     },
     "execution_count": 254,
     "metadata": {},
     "output_type": "execute_result"
    }
   ],
   "source": [
    "p.equations[\"\"]"
   ]
  },
  {
   "cell_type": "code",
   "execution_count": null,
   "metadata": {
    "collapsed": true
   },
   "outputs": [],
   "source": []
  }
 ],
 "metadata": {
  "kernelspec": {
   "display_name": "Python 3",
   "language": "python",
   "name": "python3"
  },
  "language_info": {
   "codemirror_mode": {
    "name": "ipython",
    "version": 3
   },
   "file_extension": ".py",
   "mimetype": "text/x-python",
   "name": "python",
   "nbconvert_exporter": "python",
   "pygments_lexer": "ipython3",
   "version": "3.6.8"
  }
 },
 "nbformat": 4,
 "nbformat_minor": 2
}
