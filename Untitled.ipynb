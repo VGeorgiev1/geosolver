{
 "cells": [
  {
   "cell_type": "code",
   "execution_count": 1,
   "metadata": {},
   "outputs": [],
   "source": [
    "from solve import solveReal"
   ]
  },
  {
   "cell_type": "code",
   "execution_count": 2,
   "metadata": {},
   "outputs": [],
   "source": [
    "def parse_symbols(func):\n",
    "#     def func_wrapper(self, *args):\n",
    "#         arguments = []\n",
    "#         for a in args:\n",
    "#             if isinstance(a, str):\n",
    "#                 if a not in self.symbols:\n",
    "#                     s = Symbol(a, real=True)\n",
    "#                     self.symbols[a] = s\n",
    "#                     arguments.append(s)\n",
    "#                 else:\n",
    "#                     arguments.append(self.symbols[a])\n",
    "#             else:\n",
    "#                 arguments.append(a)\n",
    "#         return func(self, *arguments)\n",
    "#     return func_wrapper\n",
    "    return func"
   ]
  },
  {
   "cell_type": "code",
   "execution_count": 3,
   "metadata": {},
   "outputs": [],
   "source": [
    "def distance(a, b):\n",
    "    return f'Abs[{a} - {b}]'"
   ]
  },
  {
   "cell_type": "code",
   "execution_count": 4,
   "metadata": {},
   "outputs": [],
   "source": [
    "class Triangle:\n",
    "    def __init__(self, A, B, C):\n",
    "        self.A = A\n",
    "        self.B = B\n",
    "        self.C = C\n",
    "    def perimeter(self):\n",
    "        return f'{distance(self.A, self.B)}+{distance(self.B, self.C)}+{distance(self.C, self.A)}'"
   ]
  },
  {
   "cell_type": "code",
   "execution_count": 5,
   "metadata": {},
   "outputs": [],
   "source": [
    "class Problem:\n",
    "    def __init__(self):\n",
    "        self.symbols = {}\n",
    "        self.equations = []\n",
    "    @parse_symbols\n",
    "    def triangle(self, a, b, c):\n",
    "        return Triangle(a, b, c)\n",
    "    @parse_symbols\n",
    "    def perimeter(self, shape, value):\n",
    "        self.equations.append(f'{shape.perimeter()}=={value}')\n",
    "    @parse_symbols\n",
    "    def eq(self, a, b):\n",
    "        self.equations.append(f'{a}=={b}')\n",
    "    @parse_symbols\n",
    "    def dist(self, a, b):\n",
    "        return distance(a, b)\n",
    "    def solve(self, expression):\n",
    "        self.equations.append(f'answer=={expression}')\n",
    "        return solveReal(self.equations)"
   ]
  },
  {
   "cell_type": "code",
   "execution_count": 6,
   "metadata": {},
   "outputs": [
    {
     "name": "stdout",
     "output_type": "stream",
     "text": [
      "{\n",
      "Abs[A - B]+Abs[B - C]+Abs[C - A]==5,\n",
      "Abs[A - B]==2,\n",
      "Abs[B - C]==1,\n",
      "answer==Abs[A - C]}\n"
     ]
    },
    {
     "data": {
      "text/plain": [
       "2.0"
      ]
     },
     "execution_count": 6,
     "metadata": {},
     "output_type": "execute_result"
    }
   ],
   "source": [
    "p = Problem()\n",
    "t = p.triangle('A', 'B', 'C')\n",
    "p.perimeter(t, 5)\n",
    "p.eq(p.dist('A', 'B'), 2)\n",
    "p.eq(p.dist('B', 'C'), 1)\n",
    "p.solve(p.dist('A', 'C'))"
   ]
  },
  {
   "cell_type": "code",
   "execution_count": 7,
   "metadata": {},
   "outputs": [
    {
     "data": {
      "text/plain": [
       "['Abs[A - B]+Abs[B - C]+Abs[C - A]==5',\n",
       " 'Abs[A - B]==2',\n",
       " 'Abs[B - C]==1',\n",
       " 'answer==Abs[A - C]']"
      ]
     },
     "execution_count": 7,
     "metadata": {},
     "output_type": "execute_result"
    }
   ],
   "source": [
    "p.equations"
   ]
  },
  {
   "cell_type": "code",
   "execution_count": null,
   "metadata": {},
   "outputs": [],
   "source": []
  },
  {
   "cell_type": "code",
   "execution_count": 8,
   "metadata": {},
   "outputs": [
    {
     "ename": "NameError",
     "evalue": "name 'symbols' is not defined",
     "output_type": "error",
     "traceback": [
      "\u001b[0;31m---------------------------------------------------------------------------\u001b[0m",
      "\u001b[0;31mNameError\u001b[0m                                 Traceback (most recent call last)",
      "\u001b[0;32m<ipython-input-8-cfcd18dea00e>\u001b[0m in \u001b[0;36m<module>\u001b[0;34m()\u001b[0m\n\u001b[0;32m----> 1\u001b[0;31m \u001b[0mA\u001b[0m\u001b[0;34m,\u001b[0m \u001b[0mB\u001b[0m\u001b[0;34m,\u001b[0m \u001b[0md\u001b[0m \u001b[0;34m=\u001b[0m \u001b[0msymbols\u001b[0m\u001b[0;34m(\u001b[0m\u001b[0;34m'A B d'\u001b[0m\u001b[0;34m,\u001b[0m \u001b[0mreal\u001b[0m\u001b[0;34m=\u001b[0m\u001b[0;32mTrue\u001b[0m\u001b[0;34m)\u001b[0m\u001b[0;34m\u001b[0m\u001b[0;34m\u001b[0m\u001b[0m\n\u001b[0m\u001b[1;32m      2\u001b[0m equations = [\n\u001b[1;32m      3\u001b[0m     \u001b[0mAbs\u001b[0m\u001b[0;34m(\u001b[0m\u001b[0mA\u001b[0m \u001b[0;34m-\u001b[0m \u001b[0mB\u001b[0m\u001b[0;34m)\u001b[0m \u001b[0;34m-\u001b[0m \u001b[0md\u001b[0m\u001b[0;34m,\u001b[0m\u001b[0;34m\u001b[0m\u001b[0;34m\u001b[0m\u001b[0m\n\u001b[1;32m      4\u001b[0m     \u001b[0mAbs\u001b[0m\u001b[0;34m(\u001b[0m\u001b[0mA\u001b[0m \u001b[0;34m-\u001b[0m \u001b[0mB\u001b[0m\u001b[0;34m)\u001b[0m \u001b[0;34m-\u001b[0m \u001b[0;36m2\u001b[0m\u001b[0;34m\u001b[0m\u001b[0;34m\u001b[0m\u001b[0m\n\u001b[1;32m      5\u001b[0m ]\n",
      "\u001b[0;31mNameError\u001b[0m: name 'symbols' is not defined"
     ]
    }
   ],
   "source": [
    "A, B, d = symbols('A B d', real=True)\n",
    "equations = [\n",
    "    Abs(A - B) - d,\n",
    "    Abs(A - B) - 2\n",
    "]\n",
    "solve(equations, [d, A, B])"
   ]
  },
  {
   "cell_type": "code",
   "execution_count": null,
   "metadata": {},
   "outputs": [],
   "source": []
  },
  {
   "cell_type": "code",
   "execution_count": null,
   "metadata": {},
   "outputs": [],
   "source": []
  }
 ],
 "metadata": {
  "kernelspec": {
   "display_name": "Python 3",
   "language": "python",
   "name": "python3"
  },
  "language_info": {
   "codemirror_mode": {
    "name": "ipython",
    "version": 3
   },
   "file_extension": ".py",
   "mimetype": "text/x-python",
   "name": "python",
   "nbconvert_exporter": "python",
   "pygments_lexer": "ipython3",
   "version": "3.6.8"
  }
 },
 "nbformat": 4,
 "nbformat_minor": 2
}
