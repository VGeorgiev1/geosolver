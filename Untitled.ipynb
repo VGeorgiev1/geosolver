{
 "cells": [
  {
   "cell_type": "code",
   "execution_count": 152,
   "metadata": {},
   "outputs": [],
   "source": [
    "from solve import solveReal, expression"
   ]
  },
  {
   "cell_type": "code",
   "execution_count": 155,
   "metadata": {},
   "outputs": [],
   "source": [
    "class Expression:\n",
    "    def __init__(self, value):\n",
    "        self.value = f'({value})'\n",
    "    def __add__(self, rhs):\n",
    "        return Expression(f'{self.value} + {rhs.value}')\n",
    "    def __sub__(self, rhs):\n",
    "        return Expression(f'{self.value} - {rhs.value}')\n",
    "    def __mul__(self, rhs):\n",
    "        return Expression(f'{self.value} * {rhs.value}')\n",
    "    def __truediv__(self, rhs):\n",
    "        return Expression(f'{self.value} / {rhs.value}')\n",
    "    def __eq__(self, rhs):\n",
    "        return Expression(f'{self.value} == {rhs.value}')\n",
    "def distance(a, b):\n",
    "    return Expression(f'Abs[{(a-b).value}]')\n",
    "class Triangle:\n",
    "    def __init__(self, A, B, C):\n",
    "        self.A = A\n",
    "        self.B = B\n",
    "        self.C = C\n",
    "    def perimeter(self):\n",
    "        return distance(self.A, self.B) + distance(self.B, self.C) + distance(self.A, self.C)"
   ]
  },
  {
   "cell_type": "code",
   "execution_count": 156,
   "metadata": {
    "collapsed": true
   },
   "outputs": [],
   "source": [
    "def parse_symbols(func):\n",
    "    def func_wrapper(self, *args):\n",
    "        arguments = []\n",
    "        for a in args:\n",
    "            if isinstance(a, (str, int, float)):\n",
    "                a = Expression(a)\n",
    "            arguments.append(a)\n",
    "        return func(self, *arguments)\n",
    "    return func_wrapper"
   ]
  },
  {
   "cell_type": "code",
   "execution_count": 157,
   "metadata": {
    "collapsed": true
   },
   "outputs": [],
   "source": [
    "class Problem:\n",
    "    def __init__(self):\n",
    "        self.symbols = {}\n",
    "        self.equations = []\n",
    "    @parse_symbols\n",
    "    def triangle(self, a, b, c):\n",
    "        return Triangle(a, b, c)\n",
    "    @parse_symbols\n",
    "    def perimeter(self, shape, value):\n",
    "        self.equations.append(shape.perimeter() == value)\n",
    "    @parse_symbols\n",
    "    def eq(self, a, b):\n",
    "        self.equations.append(a == b)\n",
    "    @parse_symbols\n",
    "    def dist(self, a, b):\n",
    "        return distance(a, b)\n",
    "    def solve(self, expression):\n",
    "        answer = Expression('answer')\n",
    "        self.equations.append(answer == expression)\n",
    "        return solveReal(map(lambda e: e.value, self.equations))"
   ]
  },
  {
   "cell_type": "code",
   "execution_count": 158,
   "metadata": {},
   "outputs": [
    {
     "data": {
      "text/plain": [
       "2.0"
      ]
     },
     "execution_count": 158,
     "metadata": {},
     "output_type": "execute_result"
    }
   ],
   "source": [
    "p = Problem()\n",
    "t = p.triangle('A', 'B', 'C')\n",
    "p.perimeter(t, 5)\n",
    "p.eq(p.dist('A', 'B'), 2)\n",
    "p.eq(p.dist('B', 'C'), 1)\n",
    "p.solve(p.dist('A', 'C'))"
   ]
  },
  {
   "cell_type": "code",
   "execution_count": null,
   "metadata": {
    "collapsed": true
   },
   "outputs": [],
   "source": []
  }
 ],
 "metadata": {
  "kernelspec": {
   "display_name": "Python 3",
   "language": "python",
   "name": "python3"
  },
  "language_info": {
   "codemirror_mode": {
    "name": "ipython",
    "version": 3
   },
   "file_extension": ".py",
   "mimetype": "text/x-python",
   "name": "python",
   "nbconvert_exporter": "python",
   "pygments_lexer": "ipython3",
   "version": "3.6.8"
  }
 },
 "nbformat": 4,
 "nbformat_minor": 2
}
